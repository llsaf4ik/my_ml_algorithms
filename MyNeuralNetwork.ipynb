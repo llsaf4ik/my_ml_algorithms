{
 "cells": [
  {
   "cell_type": "code",
   "execution_count": 1,
   "id": "63711a4a",
   "metadata": {},
   "outputs": [],
   "source": [
    "import numpy as np \n",
    "import pandas as pd \n",
    "import matplotlib.pyplot as plt\n",
    "from sklearn.model_selection import train_test_split\n",
    "from sklearn.preprocessing import StandardScaler"
   ]
  },
  {
   "cell_type": "code",
   "execution_count": 2,
   "id": "67ba6b82",
   "metadata": {},
   "outputs": [],
   "source": [
    "class NeuralNetwork:\n",
    "    def __init__(self, inputs, hidden_layers, outputs, lr=0.01, initial_t=1, power_t=0.5):\n",
    "        self.lr = lr   \n",
    "        self.initial_t = initial_t\n",
    "        self.power_t = power_t\n",
    "        #инициализация начальных весов и смещении случайными значениями ~ N(0, 1)\n",
    "        w0 = np.random.normal(0, 1, size=(hidden_layers[0], inputs))\n",
    "        w1 = np.random.normal(0, 1, size=(hidden_layers[1], hidden_layers[0]))\n",
    "        w2 = np.random.normal(0, 1, size=(outputs, hidden_layers[1]))\n",
    "        b0 = np.zeros(hidden_layers[0])\n",
    "        b1 = np.zeros(hidden_layers[1])\n",
    "        b2 = np.zeros(outputs)\n",
    "        \n",
    "        self.w = [w0, w1, w2]\n",
    "        self.b = [b0, b1, b2]\n",
    "    \n",
    "    def f(self, x): #логистическая функция \n",
    "        return 1 / (1 + np.exp(-x)) \n",
    "\n",
    "    def df(self, x): #производная лог. функции\n",
    "        return self.f(x) * (1 - self.f(x))\n",
    "    \n",
    "    def forward_propagation(self, x, weight, bias): #прямое распространение\n",
    "        out = np.array(x)\n",
    "        arr = [out]\n",
    "        for i, w in enumerate(weight):\n",
    "            a = np.dot(w, out) + bias[i]\n",
    "            arr.append(a)\n",
    "            out = self.f(a)\n",
    "        return arr, out\n",
    "    \n",
    "    def get_derivatives(self, fp, weight, dy): #вычисление градиентов\n",
    "        w = list(map(np.transpose, weight))[::-1][:-1]\n",
    "        inputs = fp[::-1]\n",
    "        dfs = []\n",
    "        dfs.append(np.expand_dims(self.df(inputs[0]) * dy, axis=1))\n",
    "        dfs.append(np.dot(w[0], dfs[-1]) * self.df(inputs[1]).reshape((len(inputs[1]), 1)))\n",
    "        dfs.append(np.dot(w[1], dfs[-1]) * self.df(inputs[2]).reshape((len(inputs[2]), 1)))\n",
    "        dfs = dfs[::-1]\n",
    "        inputs = inputs[::-1]\n",
    "        gradients = []\n",
    "        gradients.append( np.dot(dfs[0], inputs[0].reshape((1, len(inputs[0])))) )\n",
    "        for i in range(1, len(dfs)):\n",
    "            gradients.append( np.dot(dfs[i], self.f(inputs[i]).reshape((1, len(inputs[i])))) )\n",
    "        return gradients, list(map(lambda x: x.reshape(len(x)), dfs))\n",
    "    \n",
    "    def back_propagation(self, X, y, w, b, epochs): #обратное распространение со стохастическим градиентным спуском\n",
    "        for k in range(epochs):\n",
    "            for j in range(len(y)):\n",
    "                fp, out = self.forward_propagation(X[j], w, b)\n",
    "                dy = out - y[j]\n",
    "                dfs_w, dfs_b = self.get_derivatives(fp, w, dy)\n",
    "                lr = self.lr * (self.initial_t / (self.initial_t + k*len(y) + j))**self.power_t #с ростом числа итерации learning rate уменьшается\n",
    "                for i in range(len(b)): \n",
    "                    w[i] = w[i] - lr * dfs_w[i]\n",
    "                    b[i] = b[i] - lr * dfs_b[i]\n",
    "        return w, b\n",
    "    \n",
    "    def train(self, X, y, epochs=5):\n",
    "        self.w, self.b = self.back_propagation(X, y, self.w, self.b, epochs)\n",
    "        \n",
    "    def predict(self, X):\n",
    "        return np.array([self.forward_propagation(X[i], self.w, self.b)[1] for i in range(len(X))]) "
   ]
  },
  {
   "cell_type": "markdown",
   "id": "c9ca3e56",
   "metadata": {},
   "source": [
    "# Работа нейросети на датасете титаника"
   ]
  },
  {
   "cell_type": "code",
   "execution_count": 3,
   "id": "332ac00d",
   "metadata": {},
   "outputs": [
    {
     "data": {
      "text/html": [
       "<div>\n",
       "<style scoped>\n",
       "    .dataframe tbody tr th:only-of-type {\n",
       "        vertical-align: middle;\n",
       "    }\n",
       "\n",
       "    .dataframe tbody tr th {\n",
       "        vertical-align: top;\n",
       "    }\n",
       "\n",
       "    .dataframe thead th {\n",
       "        text-align: right;\n",
       "    }\n",
       "</style>\n",
       "<table border=\"1\" class=\"dataframe\">\n",
       "  <thead>\n",
       "    <tr style=\"text-align: right;\">\n",
       "      <th></th>\n",
       "      <th>PassengerId</th>\n",
       "      <th>Survived</th>\n",
       "      <th>Pclass</th>\n",
       "      <th>Name</th>\n",
       "      <th>Sex</th>\n",
       "      <th>Age</th>\n",
       "      <th>SibSp</th>\n",
       "      <th>Parch</th>\n",
       "      <th>Ticket</th>\n",
       "      <th>Fare</th>\n",
       "      <th>Cabin</th>\n",
       "      <th>Embarked</th>\n",
       "    </tr>\n",
       "  </thead>\n",
       "  <tbody>\n",
       "    <tr>\n",
       "      <th>0</th>\n",
       "      <td>1</td>\n",
       "      <td>0</td>\n",
       "      <td>3</td>\n",
       "      <td>Braund, Mr. Owen Harris</td>\n",
       "      <td>male</td>\n",
       "      <td>22.0</td>\n",
       "      <td>1</td>\n",
       "      <td>0</td>\n",
       "      <td>A/5 21171</td>\n",
       "      <td>7.2500</td>\n",
       "      <td>NaN</td>\n",
       "      <td>S</td>\n",
       "    </tr>\n",
       "    <tr>\n",
       "      <th>1</th>\n",
       "      <td>2</td>\n",
       "      <td>1</td>\n",
       "      <td>1</td>\n",
       "      <td>Cumings, Mrs. John Bradley (Florence Briggs Th...</td>\n",
       "      <td>female</td>\n",
       "      <td>38.0</td>\n",
       "      <td>1</td>\n",
       "      <td>0</td>\n",
       "      <td>PC 17599</td>\n",
       "      <td>71.2833</td>\n",
       "      <td>C85</td>\n",
       "      <td>C</td>\n",
       "    </tr>\n",
       "    <tr>\n",
       "      <th>2</th>\n",
       "      <td>3</td>\n",
       "      <td>1</td>\n",
       "      <td>3</td>\n",
       "      <td>Heikkinen, Miss. Laina</td>\n",
       "      <td>female</td>\n",
       "      <td>26.0</td>\n",
       "      <td>0</td>\n",
       "      <td>0</td>\n",
       "      <td>STON/O2. 3101282</td>\n",
       "      <td>7.9250</td>\n",
       "      <td>NaN</td>\n",
       "      <td>S</td>\n",
       "    </tr>\n",
       "    <tr>\n",
       "      <th>3</th>\n",
       "      <td>4</td>\n",
       "      <td>1</td>\n",
       "      <td>1</td>\n",
       "      <td>Futrelle, Mrs. Jacques Heath (Lily May Peel)</td>\n",
       "      <td>female</td>\n",
       "      <td>35.0</td>\n",
       "      <td>1</td>\n",
       "      <td>0</td>\n",
       "      <td>113803</td>\n",
       "      <td>53.1000</td>\n",
       "      <td>C123</td>\n",
       "      <td>S</td>\n",
       "    </tr>\n",
       "    <tr>\n",
       "      <th>4</th>\n",
       "      <td>5</td>\n",
       "      <td>0</td>\n",
       "      <td>3</td>\n",
       "      <td>Allen, Mr. William Henry</td>\n",
       "      <td>male</td>\n",
       "      <td>35.0</td>\n",
       "      <td>0</td>\n",
       "      <td>0</td>\n",
       "      <td>373450</td>\n",
       "      <td>8.0500</td>\n",
       "      <td>NaN</td>\n",
       "      <td>S</td>\n",
       "    </tr>\n",
       "  </tbody>\n",
       "</table>\n",
       "</div>"
      ],
      "text/plain": [
       "   PassengerId  Survived  Pclass  \\\n",
       "0            1         0       3   \n",
       "1            2         1       1   \n",
       "2            3         1       3   \n",
       "3            4         1       1   \n",
       "4            5         0       3   \n",
       "\n",
       "                                                Name     Sex   Age  SibSp  \\\n",
       "0                            Braund, Mr. Owen Harris    male  22.0      1   \n",
       "1  Cumings, Mrs. John Bradley (Florence Briggs Th...  female  38.0      1   \n",
       "2                             Heikkinen, Miss. Laina  female  26.0      0   \n",
       "3       Futrelle, Mrs. Jacques Heath (Lily May Peel)  female  35.0      1   \n",
       "4                           Allen, Mr. William Henry    male  35.0      0   \n",
       "\n",
       "   Parch            Ticket     Fare Cabin Embarked  \n",
       "0      0         A/5 21171   7.2500   NaN        S  \n",
       "1      0          PC 17599  71.2833   C85        C  \n",
       "2      0  STON/O2. 3101282   7.9250   NaN        S  \n",
       "3      0            113803  53.1000  C123        S  \n",
       "4      0            373450   8.0500   NaN        S  "
      ]
     },
     "execution_count": 3,
     "metadata": {},
     "output_type": "execute_result"
    }
   ],
   "source": [
    "pd.read_csv(\"train.csv\").head()"
   ]
  },
  {
   "cell_type": "code",
   "execution_count": 4,
   "id": "a604011a",
   "metadata": {},
   "outputs": [],
   "source": [
    "titles_mapping = {\n",
    "        \"Mr\" :         \"Mr\",\n",
    "        \"Capt\":        \"Mr\",\n",
    "        \"Col\":         \"Mr\",\n",
    "        \"Major\":       \"Mr\",\n",
    "        \"Dr\":          \"Mr\",\n",
    "        \"Rev\":         \"Mr\",\n",
    "        \"Jonkheer\":    \"Mr\",\n",
    "        \"Don\":         \"Mr\",\n",
    "        \"Sir\" :        \"Mr\",\n",
    "        \"Mme\":         \"Mrs\",\n",
    "        \"Mrs\" :        \"Mrs\",\n",
    "        \"Countess\":    \"Mrs\",\n",
    "        \"Dona\":        \"Mrs\",\n",
    "        \"Lady\" :       \"Mrs\",\n",
    "        \"Master\" :     \"Master\",\n",
    "        \"Ms\":          \"Miss\",\n",
    "        \"Mlle\":        \"Miss\",\n",
    "        \"Miss\" :       \"Miss\",\n",
    "}"
   ]
  },
  {
   "cell_type": "code",
   "execution_count": 5,
   "id": "dfe0211a",
   "metadata": {},
   "outputs": [],
   "source": [
    "data = pd.read_csv(\"train.csv\").drop(\"Cabin\", axis=1)\n",
    "data.loc[data.Age.isna(), \"Age\"] = data.Age.mean()\n",
    "data = data.dropna()\n",
    "data[\"Title\"] = data[\"Name\"].str.extract(' ([A-Za-z]+)\\.')\n",
    "data[\"Title\"] = data[\"Title\"].map(titles_mapping)\n",
    "d = pd.get_dummies(data[[\"Sex\", \"Embarked\", \"Title\"]]).astype(int).drop(\"Sex_female\", axis=1)\n",
    "data = data.select_dtypes((int, float)).iloc[:, 1:].reset_index(drop=True)\n",
    "for column in d.columns:\n",
    "    data[column] = list(d[column])\n",
    "data[\"Family\"] = data[\"SibSp\"] + data[\"Parch\"]\n",
    "data = data.drop(\"Title_Master\", axis=1)\n",
    "y = data.iloc[:, 0]\n",
    "X = data.iloc[:, 1:]\n",
    "X_train, X_test, y_train, y_test = train_test_split(X, y, test_size=0.33, stratify=y)\n",
    "X_train, X_test, y_train, y_test = map(lambda x: x.reset_index(drop=True), (X_train, X_test, y_train, y_test))\n",
    "scaler = StandardScaler()\n",
    "X_train_scaled = scaler.fit_transform(X_train)\n",
    "X_test_scaled = scaler.transform(X_test)"
   ]
  },
  {
   "cell_type": "code",
   "execution_count": 6,
   "id": "c45738a0",
   "metadata": {},
   "outputs": [
    {
     "data": {
      "text/html": [
       "<div>\n",
       "<style scoped>\n",
       "    .dataframe tbody tr th:only-of-type {\n",
       "        vertical-align: middle;\n",
       "    }\n",
       "\n",
       "    .dataframe tbody tr th {\n",
       "        vertical-align: top;\n",
       "    }\n",
       "\n",
       "    .dataframe thead th {\n",
       "        text-align: right;\n",
       "    }\n",
       "</style>\n",
       "<table border=\"1\" class=\"dataframe\">\n",
       "  <thead>\n",
       "    <tr style=\"text-align: right;\">\n",
       "      <th></th>\n",
       "      <th>Pclass</th>\n",
       "      <th>Age</th>\n",
       "      <th>SibSp</th>\n",
       "      <th>Parch</th>\n",
       "      <th>Fare</th>\n",
       "      <th>Sex_male</th>\n",
       "      <th>Embarked_C</th>\n",
       "      <th>Embarked_Q</th>\n",
       "      <th>Embarked_S</th>\n",
       "      <th>Title_Miss</th>\n",
       "      <th>Title_Mr</th>\n",
       "      <th>Title_Mrs</th>\n",
       "      <th>Family</th>\n",
       "    </tr>\n",
       "  </thead>\n",
       "  <tbody>\n",
       "    <tr>\n",
       "      <th>590</th>\n",
       "      <td>2</td>\n",
       "      <td>25.0</td>\n",
       "      <td>0</td>\n",
       "      <td>1</td>\n",
       "      <td>26.0000</td>\n",
       "      <td>0</td>\n",
       "      <td>0</td>\n",
       "      <td>0</td>\n",
       "      <td>1</td>\n",
       "      <td>0</td>\n",
       "      <td>0</td>\n",
       "      <td>1</td>\n",
       "      <td>1</td>\n",
       "    </tr>\n",
       "    <tr>\n",
       "      <th>591</th>\n",
       "      <td>2</td>\n",
       "      <td>31.0</td>\n",
       "      <td>0</td>\n",
       "      <td>0</td>\n",
       "      <td>13.0000</td>\n",
       "      <td>1</td>\n",
       "      <td>0</td>\n",
       "      <td>0</td>\n",
       "      <td>1</td>\n",
       "      <td>0</td>\n",
       "      <td>1</td>\n",
       "      <td>0</td>\n",
       "      <td>0</td>\n",
       "    </tr>\n",
       "    <tr>\n",
       "      <th>592</th>\n",
       "      <td>1</td>\n",
       "      <td>40.0</td>\n",
       "      <td>0</td>\n",
       "      <td>0</td>\n",
       "      <td>27.7208</td>\n",
       "      <td>1</td>\n",
       "      <td>1</td>\n",
       "      <td>0</td>\n",
       "      <td>0</td>\n",
       "      <td>0</td>\n",
       "      <td>1</td>\n",
       "      <td>0</td>\n",
       "      <td>0</td>\n",
       "    </tr>\n",
       "    <tr>\n",
       "      <th>593</th>\n",
       "      <td>3</td>\n",
       "      <td>20.5</td>\n",
       "      <td>0</td>\n",
       "      <td>0</td>\n",
       "      <td>7.2500</td>\n",
       "      <td>1</td>\n",
       "      <td>0</td>\n",
       "      <td>0</td>\n",
       "      <td>1</td>\n",
       "      <td>0</td>\n",
       "      <td>1</td>\n",
       "      <td>0</td>\n",
       "      <td>0</td>\n",
       "    </tr>\n",
       "    <tr>\n",
       "      <th>594</th>\n",
       "      <td>2</td>\n",
       "      <td>47.0</td>\n",
       "      <td>0</td>\n",
       "      <td>0</td>\n",
       "      <td>15.0000</td>\n",
       "      <td>1</td>\n",
       "      <td>0</td>\n",
       "      <td>0</td>\n",
       "      <td>1</td>\n",
       "      <td>0</td>\n",
       "      <td>1</td>\n",
       "      <td>0</td>\n",
       "      <td>0</td>\n",
       "    </tr>\n",
       "  </tbody>\n",
       "</table>\n",
       "</div>"
      ],
      "text/plain": [
       "     Pclass   Age  SibSp  Parch     Fare  Sex_male  Embarked_C  Embarked_Q  \\\n",
       "590       2  25.0      0      1  26.0000         0           0           0   \n",
       "591       2  31.0      0      0  13.0000         1           0           0   \n",
       "592       1  40.0      0      0  27.7208         1           1           0   \n",
       "593       3  20.5      0      0   7.2500         1           0           0   \n",
       "594       2  47.0      0      0  15.0000         1           0           0   \n",
       "\n",
       "     Embarked_S  Title_Miss  Title_Mr  Title_Mrs  Family  \n",
       "590           1           0         0          1       1  \n",
       "591           1           0         1          0       0  \n",
       "592           0           0         1          0       0  \n",
       "593           1           0         1          0       0  \n",
       "594           1           0         1          0       0  "
      ]
     },
     "execution_count": 6,
     "metadata": {},
     "output_type": "execute_result"
    }
   ],
   "source": [
    "X_train.tail()"
   ]
  },
  {
   "cell_type": "code",
   "execution_count": 10,
   "id": "ecdbff5b",
   "metadata": {},
   "outputs": [],
   "source": [
    "n = NeuralNetwork(inputs=13, hidden_layers=[10, 10], outputs=1, lr=0.5, initial_t=1, power_t=0.1)"
   ]
  },
  {
   "cell_type": "code",
   "execution_count": 11,
   "id": "33cd2a69",
   "metadata": {},
   "outputs": [],
   "source": [
    "n.train(X_train_scaled, y_train, 10)"
   ]
  },
  {
   "cell_type": "code",
   "execution_count": 12,
   "id": "c2af1d98",
   "metadata": {},
   "outputs": [
    {
     "data": {
      "text/plain": [
       "0.826530612244898"
      ]
     },
     "execution_count": 12,
     "metadata": {},
     "output_type": "execute_result"
    }
   ],
   "source": [
    "((n.predict(X_test_scaled)[:, 0] > 0.5) == y_test).mean() #доля верных предсказаний"
   ]
  },
  {
   "cell_type": "markdown",
   "id": "99af1a3a",
   "metadata": {},
   "source": [
    "# Работа нейросети на датасете mnist"
   ]
  },
  {
   "cell_type": "code",
   "execution_count": 13,
   "id": "d7572f49",
   "metadata": {},
   "outputs": [],
   "source": [
    "df = pd.read_csv(\"data.csv\")"
   ]
  },
  {
   "cell_type": "code",
   "execution_count": 14,
   "id": "f739ef1c",
   "metadata": {},
   "outputs": [],
   "source": [
    "X, y = df.drop(\"y\", axis=1), df[\"y\"]"
   ]
  },
  {
   "cell_type": "code",
   "execution_count": 15,
   "id": "ee8849c0",
   "metadata": {},
   "outputs": [
    {
     "name": "stdout",
     "output_type": "stream",
     "text": [
      "Число на картинке -> 3\n"
     ]
    },
    {
     "data": {
      "image/png": "[encoded data removed]",
      "text/plain": [
       "<Figure size 640x480 with 1 Axes>"
      ]
     },
     "metadata": {},
     "output_type": "display_data"
    }
   ],
   "source": [
    "plt.imshow(X.to_numpy()[50].reshape(28, 28));\n",
    "print(f\"Число на картинке -> {y[50]}\")"
   ]
  },
  {
   "cell_type": "code",
   "execution_count": 16,
   "id": "0ad1cd41",
   "metadata": {},
   "outputs": [],
   "source": [
    "X_train, X_test, y_train, y_test = train_test_split(X, y, test_size=0.2, stratify=y)\n",
    "X_train, X_test, y_train, y_test = list(map(lambda x: x.to_numpy(), (X_train, X_test, y_train, y_test)))"
   ]
  },
  {
   "cell_type": "code",
   "execution_count": 17,
   "id": "869b9581",
   "metadata": {},
   "outputs": [],
   "source": [
    "y_train_ = np.zeros((len(y_train), 10))\n",
    "for i in range(len(y_train)):\n",
    "    y_train_[i, y_train[i]] = 1\n",
    "y_test_ = np.zeros((len(y_test), 10))\n",
    "for i in range(len(y_test)):\n",
    "    y_test_[i, y_test[i]] = 1"
   ]
  },
  {
   "cell_type": "code",
   "execution_count": 18,
   "id": "390dd050",
   "metadata": {},
   "outputs": [
    {
     "data": {
      "text/plain": [
       "array([[0., 0., 0., ..., 0., 0., 0.],\n",
       "       [0., 0., 0., ..., 1., 0., 0.],\n",
       "       [0., 1., 0., ..., 0., 0., 0.],\n",
       "       ...,\n",
       "       [0., 0., 0., ..., 0., 0., 0.],\n",
       "       [0., 0., 0., ..., 1., 0., 0.],\n",
       "       [0., 0., 0., ..., 0., 0., 0.]])"
      ]
     },
     "execution_count": 18,
     "metadata": {},
     "output_type": "execute_result"
    }
   ],
   "source": [
    "y_test_"
   ]
  },
  {
   "cell_type": "code",
   "execution_count": 31,
   "id": "04736ce3",
   "metadata": {},
   "outputs": [],
   "source": [
    "nn = NeuralNetwork(inputs=784, hidden_layers=[50, 50], outputs=10, lr=0.5, initial_t=1, power_t=0.05)"
   ]
  },
  {
   "cell_type": "code",
   "execution_count": 32,
   "id": "c36d238b",
   "metadata": {},
   "outputs": [],
   "source": [
    "nn.train(X_train, y_train_, epochs=5)"
   ]
  },
  {
   "cell_type": "code",
   "execution_count": 33,
   "id": "74bdfb72",
   "metadata": {},
   "outputs": [
    {
     "data": {
      "text/plain": [
       "0.9312142857142857"
      ]
     },
     "execution_count": 33,
     "metadata": {},
     "output_type": "execute_result"
    }
   ],
   "source": [
    "(np.argmax(nn.predict(X_test), axis=1) == y_test).mean() #доля верных предсказаний"
   ]
  },
  {
   "cell_type": "code",
   "execution_count": null,
   "id": "4773e1af",
   "metadata": {},
   "outputs": [],
   "source": []
  }
 ],
 "metadata": {
  "kernelspec": {
   "display_name": "Python 3 (ipykernel)",
   "language": "python",
   "name": "python3"
  },
  "language_info": {
   "codemirror_mode": {
    "name": "ipython",
    "version": 3
   },
   "file_extension": ".py",
   "mimetype": "text/x-python",
   "name": "python",
   "nbconvert_exporter": "python",
   "pygments_lexer": "ipython3",
   "version": "3.11.5"
  }
 },
 "nbformat": 4,
 "nbformat_minor": 5
}
