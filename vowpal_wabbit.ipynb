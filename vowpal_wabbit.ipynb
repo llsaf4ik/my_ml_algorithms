{
 "cells": [
  {
   "cell_type": "markdown",
   "id": "4ba99b8c",
   "metadata": {},
   "source": [
    "# Библиотека vowpal wabbit\n"
   ]
  },
  {
   "cell_type": "markdown",
   "id": "5a77d29f",
   "metadata": {},
   "source": [
    "Способ представления данных в vowpalwabbit: [Label] [Importance] [Tag] | Namespace Features |Namespace Features ... |Namespace Features\n",
    "\n",
    "Label - метка класса при классификации или некоторое значение при регрессии\n",
    "\n",
    "Importance - вес примера при обучении, который позволяет бороться с несбалансированными данными\n",
    "\n",
    "Tag - некоторое \"название\" примера, которое сохраняется при предсказании ответа\n",
    "\n",
    "Namespace - можно разделить признаки по пространствам, чтобы удобнее с ними работать\n",
    "\n",
    "Пример для тренировки: -1 | Фича1:0.4222 Фича2:-0.305 Фича3:1.038 Фича4:-1.044 Фича5:-0.935\n",
    "\n",
    "Пример для теста: | Фича1:0.4222 Фича2:-0.305 Фича3:1.038 Фича4:-1.044 Фича5:-0.935"
   ]
  },
  {
   "cell_type": "markdown",
   "id": "dbd3749a",
   "metadata": {},
   "source": [
    "# Преобразование поступающих данных в формат vowpalwabbit"
   ]
  },
  {
   "cell_type": "code",
   "execution_count": 487,
   "id": "a2f0492e",
   "metadata": {},
   "outputs": [],
   "source": [
    "from sklearn.model_selection import train_test_split\n",
    "from sklearn.metrics import accuracy_score\n",
    "from sklearn.metrics import roc_auc_score\n",
    "from sklearn.datasets import fetch_20newsgroups\n",
    "import pandas as pd\n",
    "import numpy as np \n",
    "import re"
   ]
  },
  {
   "cell_type": "code",
   "execution_count": 488,
   "id": "89fdb768",
   "metadata": {},
   "outputs": [],
   "source": [
    "def to_vw_format(document, label=None):\n",
    "    return str(label or '') + ' | ' + ' '.join(re.findall('\\w{3,}', document.lower())) + '\\n'"
   ]
  },
  {
   "cell_type": "code",
   "execution_count": 489,
   "id": "5fb59d17",
   "metadata": {},
   "outputs": [
    {
     "data": {
      "text/plain": [
       "'-1 | sdsds ddf\\n'"
      ]
     },
     "execution_count": 489,
     "metadata": {},
     "output_type": "execute_result"
    }
   ],
   "source": [
    "to_vw_format(\"sdsds. ,ddf@\", label=-1)"
   ]
  },
  {
   "cell_type": "markdown",
   "id": "00992a5e",
   "metadata": {},
   "source": [
    "IMDB Dataset.csv -> https://www.kaggle.com/datasets/lakshmi25npathi/imdb-dataset-of-50k-movie-reviews"
   ]
  },
  {
   "cell_type": "code",
   "execution_count": 490,
   "id": "a6d1d2dc",
   "metadata": {},
   "outputs": [],
   "source": [
    "df = pd.read_csv(\"IMDB Dataset.csv\")\n",
    "df[\"target\"] = df[\"sentiment\"].map({\"positive\": 1, \"negative\": -1})\n",
    "df = df[[\"review\", \"target\"]]"
   ]
  },
  {
   "cell_type": "code",
   "execution_count": 491,
   "id": "ef1631fa",
   "metadata": {},
   "outputs": [],
   "source": [
    "X_train, X_test, y_train, y_test = train_test_split(df[\"review\"], df[\"target\"], test_size=0.3, stratify=df[\"target\"])"
   ]
  },
  {
   "cell_type": "code",
   "execution_count": 492,
   "id": "4a377d22",
   "metadata": {},
   "outputs": [],
   "source": [
    "with open(\"train.vw\", \"w\", encoding=\"utf-8\") as f:\n",
    "    for text, target in zip(X_train, y_train):\n",
    "        f.write(to_vw_format(text, target))"
   ]
  },
  {
   "cell_type": "code",
   "execution_count": 493,
   "id": "1af27943",
   "metadata": {},
   "outputs": [],
   "source": [
    "with open(\"test.vw\", \"w\", encoding=\"utf-8\") as f:\n",
    "    for text in X_test:\n",
    "        f.write(to_vw_format(text))"
   ]
  },
  {
   "cell_type": "code",
   "execution_count": 494,
   "id": "6660402a",
   "metadata": {},
   "outputs": [
    {
     "name": "stdout",
     "output_type": "stream",
     "text": [
      " | saw this movie when first came out was official selection for the temecula valley international film festival and voted for for best picture justine priestley hot the psychotic but complex amanda this not your ordinary psycho movie lots interesting and original slants the genre sort fatal attraction for the younger set with some great blues music mixed the object amanda affection married and coming blues singer who has less time for her husband her career takes off\n",
      "\n",
      " | lot movies often bring year old son glad did not bring him this one there are many references sex and skinny dipping scene however that not the primary reason would not take him the trailers lead you believe light hearted comedy nevertheless virtually all the funny moments are the previews kept waiting for get interesting funny anything but serious however nearly fell asleep the plot less story dragged understand that dogs can great company that being said the entire story focused poorly behaving dog that the owners were not savvy enough train human caused this much damage and mayhem that person would banned the worst movie ever seen with jenifer aniston owen wilson waste their talent the best way sum this movie couple gets unruly dog couple falls love with dog dog dies couple sad the end\n",
      "\n"
     ]
    }
   ],
   "source": [
    "with open(\"test.vw\", \"r\", encoding=\"utf-8\") as f:\n",
    "    for i in range(2):\n",
    "        print(f.readline())"
   ]
  },
  {
   "cell_type": "markdown",
   "id": "05722b67",
   "metadata": {},
   "source": [
    "# Самые важные флаги в vowpal wabbit\n",
    "\n",
    "-d - Передаем данные для обучения или тестирования в формате vw\n",
    "\n",
    "-f - путь, куда надо сохранить обученную модель\n",
    "\n",
    "--passes - количество проходов по выборке, аналог эпох\n",
    "\n",
    "-с - использование кэширования, позволяет ускорить все проходы после первого (без этого passes не будет работать)\n",
    "\n",
    "--learning_rate arg - скорость обучения, arg - значение, используемое в шаге градиентного спуска\n",
    "\n",
    "--power_t - степень убывания темпа обучения (по умолчанию = 0.5)\n",
    "\n",
    "--initial_t - значение, регулирующее шаг градиентного спуска по формуле: a<sub>T</sub> = lr $\\cdot$  ($\\frac{j}{j+T}$)$^p$ , где lr - learning_rate, j - initial_t, p - power_t, T - шаг\n",
    "\n",
    "--loss_function arg - модель машинного обучения, arg: logistic - логистическая регрессия, hinge - SVM, squared - МНК для регрессии (есть и другие)\n",
    "\n",
    "--ngram arg - использование n-грамм при использовании текстов\n",
    "\n",
    "-t - для тестирования модели, игнорирует метки классов данных\n",
    "\n",
    "-p - путь к файлу, куда будут сохранены предсказания нашей модели\n",
    "\n",
    "--quiet - не выводить диагностические данные\n",
    "\n",
    "-i - для загрузки обученной модели в целях тестирования или возобновления обучения\n",
    "\n",
    "--l1 arg - l1 регуляризация \n",
    "\n",
    "--l2 arg - l2 регуляризация \n",
    "\n",
    "--oaa arg - использование многоклассовой классификации (one against all), arg - число классов\n",
    "\n",
    "-b arg – используем arg бит для хэширования, то есть признаковое пространство ограничено $2^{arg}$ признаками"
   ]
  },
  {
   "cell_type": "markdown",
   "id": "0bdc4386",
   "metadata": {},
   "source": [
    "# Другие флаги: \n",
    "https://github.com/VowpalWabbit/vowpal_wabbit/wiki/Command-Line-Arguments"
   ]
  },
  {
   "cell_type": "markdown",
   "id": "01afa188",
   "metadata": {},
   "source": [
    "# Бинарная классификация "
   ]
  },
  {
   "cell_type": "markdown",
   "id": "549a8ac7",
   "metadata": {},
   "source": [
    "# Обучение"
   ]
  },
  {
   "cell_type": "code",
   "execution_count": 495,
   "id": "9e8b39ef",
   "metadata": {
    "scrolled": true
   },
   "outputs": [
    {
     "name": "stderr",
     "output_type": "stream",
     "text": [
      "You have chosen to generate 2-grams\n",
      "final_regressor = model.vw\n",
      "Num weight bits = 18\n",
      "learning rate = 0.5\n",
      "initial_t = 0\n",
      "power_t = 0.5\n",
      "decay_learning_rate = 1\n",
      "creating cache_file = train.vw.cache\n",
      "Reading datafile = train.vw\n",
      "num sources = 1\n",
      "average    since         example     example  current  current  current\n",
      "loss       last          counter      weight    label  predict features\n",
      "0.762334   0.762334            3         3.0   1.0000  -0.0283      192\n",
      "1.040178   1.318023            6         6.0   1.0000   0.0081      252\n",
      "0.884937   0.698648           11        11.0  -1.0000   0.0323       72\n",
      "0.733942   0.582948           22        22.0  -1.0000  -0.4131      304\n",
      "0.718473   0.703003           44        44.0   1.0000  -0.5033      204\n",
      "0.675556   0.631641           87        87.0   1.0000  -0.8584      746\n",
      "0.654739   0.633921          174       174.0   1.0000  -2.5562     1218\n",
      "0.618759   0.582779          348       348.0  -1.0000   0.0680      162\n",
      "0.572478   0.526197          696       696.0  -1.0000  -0.4151      272\n",
      "0.514470   0.456462         1392      1392.0   1.0000  -0.2795      354\n",
      "0.466494   0.418518         2784      2784.0   1.0000  -0.1093       92\n",
      "0.417643   0.368791         5568      5568.0  -1.0000  -2.5533      190\n",
      "0.374307   0.330963        11135     11135.0   1.0000   2.5541      202\n",
      "0.337090   0.299870        22269     22269.0   1.0000   0.5280       94\n",
      "0.267189   0.197284        44537     44537.0  -1.0000  -0.6531      202\n",
      "0.184134   0.101079        89073     89073.0   1.0000   1.5730      200\n",
      "0.122681   0.061228       178146    178146.0   1.0000   8.3298      718\n",
      "0.078406   0.034130       356291    356291.0  -1.0000  -7.4198      464\n",
      "0.048504   0.018602       712582    712582.0  -1.0000  -9.9970      228\n",
      "\n",
      "finished run\n",
      "number of examples = 1400000\n",
      "weighted example sum = 1.4e+006\n",
      "weighted label sum = 0\n",
      "average loss = 0.02953\n",
      "best constant = 0\n",
      "total feature number = 510789280\n"
     ]
    }
   ],
   "source": [
    "!C:/Users/Ilsaf/vw.exe -d train.vw -f model.vw --learning_rate 0.5 --loss_function logistic --ngram 2 --passes 40 -c"
   ]
  },
  {
   "cell_type": "markdown",
   "id": "d7bca70d",
   "metadata": {},
   "source": [
    "# Предсказания"
   ]
  },
  {
   "cell_type": "code",
   "execution_count": 496,
   "id": "57740b69",
   "metadata": {},
   "outputs": [],
   "source": [
    "!C:/Users/Ilsaf/vw.exe -t -d test.vw -i model.vw -p predictions.txt --quiet"
   ]
  },
  {
   "cell_type": "code",
   "execution_count": 497,
   "id": "760613b6",
   "metadata": {},
   "outputs": [],
   "source": [
    "with open(\"predictions.txt\", \"r\") as f:\n",
    "    predictions = list(map(lambda x: float(x[:-2]), f.readlines()))\n",
    "    predictions = list(map(lambda x: 1 if 1 / (1 + np.exp(-x)) > 0.5 else -1, predictions))"
   ]
  },
  {
   "cell_type": "code",
   "execution_count": 498,
   "id": "8fc6cc78",
   "metadata": {},
   "outputs": [
    {
     "data": {
      "text/plain": [
       "0.9090666666666667"
      ]
     },
     "execution_count": 498,
     "metadata": {},
     "output_type": "execute_result"
    }
   ],
   "source": [
    "accuracy_score(y_test, predictions)"
   ]
  },
  {
   "cell_type": "code",
   "execution_count": 499,
   "id": "cfd93aac",
   "metadata": {},
   "outputs": [],
   "source": [
    "with open(\"predictions.txt\", \"r\") as f:\n",
    "    predictions = list(map(lambda x: 1 / ( 1 + np.exp(-float(x[:-2]))), f.readlines()))"
   ]
  },
  {
   "cell_type": "code",
   "execution_count": 500,
   "id": "86cad56d",
   "metadata": {},
   "outputs": [
    {
     "data": {
      "text/plain": [
       "0.9660740622222224"
      ]
     },
     "execution_count": 500,
     "metadata": {},
     "output_type": "execute_result"
    }
   ],
   "source": [
    "roc_auc_score(y_test.map({-1: 0, 1: 1}), predictions)"
   ]
  },
  {
   "cell_type": "markdown",
   "id": "e2580897",
   "metadata": {},
   "source": [
    "# Перебор параметров в vowpal wabbit"
   ]
  },
  {
   "cell_type": "code",
   "execution_count": 501,
   "id": "25238554",
   "metadata": {},
   "outputs": [
    {
     "name": "stdout",
     "output_type": "stream",
     "text": [
      "model_1.vw is ready\n",
      "model_10.vw is ready\n",
      "model_25.vw is ready\n",
      "CPU times: total: 46.9 ms\n",
      "Wall time: 8.94 s\n"
     ]
    }
   ],
   "source": [
    "%%time\n",
    "for p in [1,10,25]:\n",
    "    !C:/Users/Ilsaf/vw.exe \\\n",
    "        -d train.vw \\\n",
    "        --loss_function logistic \\\n",
    "        --passes {p} \\\n",
    "        -f model_{p}.vw \\\n",
    "        --random_seed 17 \\\n",
    "        --quiet \\\n",
    "        -c\n",
    "    print ('model_{}.vw is ready'.format(p))"
   ]
  },
  {
   "cell_type": "code",
   "execution_count": 502,
   "id": "ad2f2ddb",
   "metadata": {},
   "outputs": [
    {
     "name": "stdout",
     "output_type": "stream",
     "text": [
      "pred_1.txt is ready\n",
      "pred_10.txt is ready\n",
      "pred_25.txt is ready\n",
      "CPU times: total: 0 ns\n",
      "Wall time: 384 ms\n"
     ]
    }
   ],
   "source": [
    "%%time\n",
    "for p in [1,10,25]: \n",
    "    !C:/Users/Ilsaf/vw.exe \\\n",
    "        -i model_{p}.vw \\\n",
    "        -t -d test.vw \\\n",
    "        -p pred_{p}.txt \\\n",
    "        --quiet\n",
    "    print ('pred_{}.txt is ready'.format(p))"
   ]
  },
  {
   "cell_type": "code",
   "execution_count": 503,
   "id": "bed81e38",
   "metadata": {},
   "outputs": [
    {
     "name": "stdout",
     "output_type": "stream",
     "text": [
      "auc score for model_1 = 0.9586\n",
      "auc score for model_10 = 0.9605\n",
      "auc score for model_25 = 0.959\n"
     ]
    }
   ],
   "source": [
    "for p in [1,10,25]:\n",
    "    with open(f\"pred_{p}.txt\", \"r\") as f:\n",
    "        predictions = list(map(lambda x: 1 / ( 1 + np.exp(-float(x[:-2]))), f.readlines()))\n",
    "    print(f\"auc score for model_{p} = {roc_auc_score(y_test, predictions).round(4)}\")"
   ]
  },
  {
   "cell_type": "markdown",
   "id": "d3e819ae",
   "metadata": {},
   "source": [
    "# Многоклассовая классификация"
   ]
  },
  {
   "cell_type": "code",
   "execution_count": 514,
   "id": "d3564217",
   "metadata": {},
   "outputs": [],
   "source": [
    "data = fetch_20newsgroups()"
   ]
  },
  {
   "cell_type": "code",
   "execution_count": 515,
   "id": "da2bdea3",
   "metadata": {},
   "outputs": [],
   "source": [
    "X, y = data.data, data.target + 1 #метки должны быть от 1 до N, поэтому + 1"
   ]
  },
  {
   "cell_type": "code",
   "execution_count": 516,
   "id": "e717755c",
   "metadata": {},
   "outputs": [],
   "source": [
    "X_train, X_test, y_train, y_test = train_test_split(X, y, test_size=0.3, stratify=y)"
   ]
  },
  {
   "cell_type": "code",
   "execution_count": 517,
   "id": "b7816cb4",
   "metadata": {},
   "outputs": [],
   "source": [
    "with open(\"train.vw\", \"w\", encoding=\"utf-8\") as f:\n",
    "    for text, target in zip(X_train, y_train):\n",
    "        f.write(to_vw_format(text, target))"
   ]
  },
  {
   "cell_type": "code",
   "execution_count": 518,
   "id": "f4dbb83c",
   "metadata": {},
   "outputs": [],
   "source": [
    "with open(\"test.vw\", \"w\", encoding=\"utf-8\") as f:\n",
    "    for text in X_test:\n",
    "        f.write(to_vw_format(text))"
   ]
  },
  {
   "cell_type": "code",
   "execution_count": 519,
   "id": "03beea61",
   "metadata": {},
   "outputs": [
    {
     "name": "stdout",
     "output_type": "stream",
     "text": [
      "13 | from wayne alan martin wm1h andrew cmu edu subject dayton hamfest organization senior electrical and computer engineering carnegie mellon pittsburgh lines distribution usa nntp posting host po5 andrew cmu edu reply 1993apr19 163122 20454 cbfsb att com yes the and but does anyone have directions how get there after get dayton thanks wayne martin\n",
      "\n"
     ]
    }
   ],
   "source": [
    "with open(\"train.vw\", \"r\", encoding=\"utf-8\") as f:\n",
    "    print(f.readline())"
   ]
  },
  {
   "cell_type": "markdown",
   "id": "48f91121",
   "metadata": {},
   "source": [
    "# Обучение"
   ]
  },
  {
   "cell_type": "code",
   "execution_count": 520,
   "id": "9437f22c",
   "metadata": {},
   "outputs": [
    {
     "name": "stderr",
     "output_type": "stream",
     "text": [
      "You have chosen to generate 2-grams\n",
      "final_regressor = model.vw\n",
      "Num weight bits = 18\n",
      "learning rate = 0.5\n",
      "initial_t = 0\n",
      "power_t = 0.5\n",
      "decay_learning_rate = 1\n",
      "creating cache_file = train.vw.cache\n",
      "Reading datafile = train.vw\n",
      "num sources = 1\n",
      "average    since         example     example  current  current  current\n",
      "loss       last          counter      weight    label  predict features\n",
      "1.000000   1.000000          3      3.0         20       13      306\n",
      "1.000000   1.000000          6      6.0          5       13      138\n",
      "1.000000   1.000000         11     11.0         17       13      114\n",
      "1.000000   1.000000         22     22.0          9       13      188\n",
      "0.931818   0.863636         44     44.0         15       11      274\n",
      "0.885057   0.837209         87     87.0         19        2      404\n",
      "0.839080   0.793103        174    174.0          1       20      280\n",
      "0.758621   0.678161        348    348.0         14       14      420\n",
      "0.602011   0.445402        696    696.0         13       16      446\n",
      "0.471983   0.341954       1392   1392.0          1        1      366\n",
      "0.344109   0.216236       2784   2784.0         13       13      290\n",
      "0.263649   0.183190       5568   5568.0          4        4      118\n",
      "0.163269   0.062870      11135  11135.0          8        8      138\n",
      "0.085904   0.008532      22269  22269.0         10       10      290\n",
      "0.043694   0.001482      44537  44537.0          5        5      202\n",
      "\n",
      "finished run\n",
      "number of examples = 79190\n",
      "weighted example sum = 7.919e+004\n",
      "weighted label sum = 0\n",
      "average loss = 0.02503\n",
      "best constant = 0\n",
      "total feature number = 37660340\n"
     ]
    }
   ],
   "source": [
    "!C:/Users/Ilsaf/vw.exe --oaa 20 -d train.vw -f model.vw --loss_function hinge --ngram 2 --passes 10 -c"
   ]
  },
  {
   "cell_type": "markdown",
   "id": "d7423401",
   "metadata": {},
   "source": [
    "# Предсказания"
   ]
  },
  {
   "cell_type": "code",
   "execution_count": 521,
   "id": "82b26f55",
   "metadata": {},
   "outputs": [],
   "source": [
    "!C:/Users/Ilsaf/vw.exe -t -d test.vw -i model.vw -p predictions.txt --quiet"
   ]
  },
  {
   "cell_type": "code",
   "execution_count": 522,
   "id": "a6b11341",
   "metadata": {},
   "outputs": [],
   "source": [
    "with open(\"predictions.txt\", \"r\") as f:\n",
    "    pred = [float(label) for label in f.readlines()]"
   ]
  },
  {
   "cell_type": "code",
   "execution_count": 523,
   "id": "2aa2ee48",
   "metadata": {},
   "outputs": [
    {
     "data": {
      "text/plain": [
       "0.8695139911634757"
      ]
     },
     "execution_count": 523,
     "metadata": {},
     "output_type": "execute_result"
    }
   ],
   "source": [
    "accuracy_score(y_test, pred)"
   ]
  },
  {
   "cell_type": "markdown",
   "id": "1c2aa0af",
   "metadata": {},
   "source": [
    "# Регрессия в vowpal wabbit"
   ]
  },
  {
   "cell_type": "code",
   "execution_count": 524,
   "id": "f93c1354",
   "metadata": {},
   "outputs": [],
   "source": [
    "from sklearn.datasets import make_regression\n",
    "from sklearn.metrics import mean_absolute_error, r2_score"
   ]
  },
  {
   "cell_type": "code",
   "execution_count": 525,
   "id": "ef049d28",
   "metadata": {},
   "outputs": [],
   "source": [
    "X, y = make_regression(n_samples=100000, n_features=10, noise=1, random_state=42)"
   ]
  },
  {
   "cell_type": "code",
   "execution_count": 526,
   "id": "d79be399",
   "metadata": {},
   "outputs": [],
   "source": [
    "X_train, X_test, y_train, y_test = train_test_split(X, y, test_size=0.3)"
   ]
  },
  {
   "cell_type": "code",
   "execution_count": 527,
   "id": "07a280f4",
   "metadata": {},
   "outputs": [],
   "source": [
    "def to_vw_format(data, target=False):\n",
    "    return str(target or \"\") + \" | \" + \" \".join([f\"f{i}:{data[i]}\" for i in range(len(data))]) + \"\\n\""
   ]
  },
  {
   "cell_type": "code",
   "execution_count": 528,
   "id": "b0184a0c",
   "metadata": {},
   "outputs": [
    {
     "data": {
      "text/plain": [
       "'119.09515770007185 | f0:0.6062904726446545 f1:0.23675980113915374 f2:-0.9161579471392548 f3:0.3858363071380209 f4:-0.14952873540255326 f5:-1.3318700525131166 f6:0.9948813991791735 f7:-1.4846834513046567 f8:2.088451561879559 f9:-0.30632136060998555\\n'"
      ]
     },
     "execution_count": 528,
     "metadata": {},
     "output_type": "execute_result"
    }
   ],
   "source": [
    "to_vw_format(X_train[0], target=y_train[0])"
   ]
  },
  {
   "cell_type": "code",
   "execution_count": 529,
   "id": "35c136a7",
   "metadata": {},
   "outputs": [],
   "source": [
    "with open(\"train.vw\", \"w\", encoding=\"utf-8\") as f:\n",
    "    for text, target in zip(X_train, y_train):\n",
    "        f.write(to_vw_format(text, target))"
   ]
  },
  {
   "cell_type": "code",
   "execution_count": 530,
   "id": "fc9c4e8b",
   "metadata": {},
   "outputs": [],
   "source": [
    "with open(\"test.vw\", \"w\", encoding=\"utf-8\") as f:\n",
    "    for text in X_test:\n",
    "        f.write(to_vw_format(text))"
   ]
  },
  {
   "cell_type": "code",
   "execution_count": 531,
   "id": "3326192d",
   "metadata": {},
   "outputs": [
    {
     "name": "stderr",
     "output_type": "stream",
     "text": [
      "final_regressor = model.vw\n",
      "Num weight bits = 18\n",
      "learning rate = 0.5\n",
      "initial_t = 0\n",
      "power_t = 0.5\n",
      "using no cache\n",
      "Reading datafile = train.vw\n",
      "num sources = 1\n",
      "average    since         example     example  current  current  current\n",
      "loss       last          counter      weight    label  predict features\n",
      "51566.670247 51566.670247          3         3.0 -190.5473  -0.2736       11\n",
      "36107.659627 20648.649007          6         6.0  44.8172   0.1673       11\n",
      "30266.249379 23256.557080         11        11.0  64.5526   0.0028       11\n",
      "22921.081461 15575.913543         22        22.0 -10.1413  -1.4213       11\n",
      "36569.137712 50217.193964         44        44.0 -177.9140  -0.6585       11\n",
      "43729.614545 51056.614095         87        87.0  46.3969   0.7297       11\n",
      "44185.753772 44641.892999        174       174.0 109.2240   2.0686       11\n",
      "38380.427460 32575.101148        348       348.0 122.3701   2.5391       11\n",
      "38216.297827 38052.168194        696       696.0 377.4459   8.5119       11\n",
      "35179.642484 32142.987141       1392      1392.0  99.3235   1.9621       11\n",
      "34850.502058 34521.361632       2784      2784.0  75.8496   2.7937       11\n",
      "33985.616544 33120.731030       5568      5568.0 168.5304  10.9465       11\n",
      "33421.286487 32856.855060      11135     11135.0 -111.6909  -7.5626       11\n",
      "31910.266364 30399.110528      22269     22269.0 -225.5627 -27.2397       11\n",
      "30210.298342 28510.253979      44537     44537.0 -55.6778  -9.3426       11\n",
      "\n",
      "finished run\n",
      "number of examples = 70000\n",
      "weighted example sum = 7e+004\n",
      "weighted label sum = -8.837e+004\n",
      "average loss = 2.889e+004\n",
      "best constant = -1.262\n",
      "total feature number = 770000\n"
     ]
    }
   ],
   "source": [
    "!C:/Users/Ilsaf/vw.exe -d train.vw -f model.vw --loss_function squared"
   ]
  },
  {
   "cell_type": "code",
   "execution_count": 532,
   "id": "fd826d03",
   "metadata": {},
   "outputs": [],
   "source": [
    "!C:/Users/Ilsaf/vw.exe -t -d test.vw -i model.vw -p predictions.txt --quiet"
   ]
  },
  {
   "cell_type": "code",
   "execution_count": 533,
   "id": "8075f007",
   "metadata": {},
   "outputs": [],
   "source": [
    "with open(\"predictions.txt\", \"r\") as f:\n",
    "    pred = [float(label) for label in f.readlines()]"
   ]
  },
  {
   "cell_type": "code",
   "execution_count": 534,
   "id": "14e745e3",
   "metadata": {},
   "outputs": [
    {
     "data": {
      "text/plain": [
       "127.67117144897841"
      ]
     },
     "execution_count": 534,
     "metadata": {},
     "output_type": "execute_result"
    }
   ],
   "source": [
    "mean_absolute_error(y_test, pred)"
   ]
  },
  {
   "cell_type": "code",
   "execution_count": 535,
   "id": "e64c5c24",
   "metadata": {},
   "outputs": [
    {
     "data": {
      "text/plain": [
       "0.3409035049408746"
      ]
     },
     "execution_count": 535,
     "metadata": {},
     "output_type": "execute_result"
    }
   ],
   "source": [
    "r2_score(y_test, pred)"
   ]
  },
  {
   "cell_type": "code",
   "execution_count": 536,
   "id": "4280d34c",
   "metadata": {},
   "outputs": [
    {
     "data": {
      "text/html": [
       "<div>\n",
       "<style scoped>\n",
       "    .dataframe tbody tr th:only-of-type {\n",
       "        vertical-align: middle;\n",
       "    }\n",
       "\n",
       "    .dataframe tbody tr th {\n",
       "        vertical-align: top;\n",
       "    }\n",
       "\n",
       "    .dataframe thead th {\n",
       "        text-align: right;\n",
       "    }\n",
       "</style>\n",
       "<table border=\"1\" class=\"dataframe\">\n",
       "  <thead>\n",
       "    <tr style=\"text-align: right;\">\n",
       "      <th></th>\n",
       "      <th>real</th>\n",
       "      <th>pred</th>\n",
       "    </tr>\n",
       "  </thead>\n",
       "  <tbody>\n",
       "    <tr>\n",
       "      <th>0</th>\n",
       "      <td>-26.410513</td>\n",
       "      <td>-4.305271</td>\n",
       "    </tr>\n",
       "    <tr>\n",
       "      <th>1</th>\n",
       "      <td>-399.834335</td>\n",
       "      <td>-74.879280</td>\n",
       "    </tr>\n",
       "    <tr>\n",
       "      <th>2</th>\n",
       "      <td>-188.712635</td>\n",
       "      <td>-38.905910</td>\n",
       "    </tr>\n",
       "    <tr>\n",
       "      <th>3</th>\n",
       "      <td>381.151092</td>\n",
       "      <td>74.717155</td>\n",
       "    </tr>\n",
       "    <tr>\n",
       "      <th>4</th>\n",
       "      <td>37.087914</td>\n",
       "      <td>10.775252</td>\n",
       "    </tr>\n",
       "  </tbody>\n",
       "</table>\n",
       "</div>"
      ],
      "text/plain": [
       "         real       pred\n",
       "0  -26.410513  -4.305271\n",
       "1 -399.834335 -74.879280\n",
       "2 -188.712635 -38.905910\n",
       "3  381.151092  74.717155\n",
       "4   37.087914  10.775252"
      ]
     },
     "execution_count": 536,
     "metadata": {},
     "output_type": "execute_result"
    }
   ],
   "source": [
    "pd.DataFrame({\"real\": y_test, \"pred\": pred}).head()"
   ]
  }
 ],
 "metadata": {
  "kernelspec": {
   "display_name": "Python 3 (ipykernel)",
   "language": "python",
   "name": "python3"
  },
  "language_info": {
   "codemirror_mode": {
    "name": "ipython",
    "version": 3
   },
   "file_extension": ".py",
   "mimetype": "text/x-python",
   "name": "python",
   "nbconvert_exporter": "python",
   "pygments_lexer": "ipython3",
   "version": "3.11.5"
  }
 },
 "nbformat": 4,
 "nbformat_minor": 5
}
